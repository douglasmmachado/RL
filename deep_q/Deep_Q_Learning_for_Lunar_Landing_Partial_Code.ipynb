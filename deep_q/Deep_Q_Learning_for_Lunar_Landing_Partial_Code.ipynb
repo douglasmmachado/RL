{
  "cells": [
    {
      "cell_type": "markdown",
      "metadata": {
        "id": "view-in-github",
        "colab_type": "text"
      },
      "source": [
        "<a href=\"https://colab.research.google.com/github/douglasmmachado/RL/blob/main/deep_q/Deep_Q_Learning_for_Lunar_Landing_Partial_Code.ipynb\" target=\"_parent\"><img src=\"https://colab.research.google.com/assets/colab-badge.svg\" alt=\"Open In Colab\"/></a>"
      ]
    },
    {
      "cell_type": "markdown",
      "metadata": {
        "id": "LbZcI9ZXHl3a"
      },
      "source": [
        "# Deep Q-Learning for Lunar Landing"
      ]
    },
    {
      "cell_type": "markdown",
      "metadata": {
        "id": "E8yPRjteXgPb"
      },
      "source": [
        "## Part 0 - Installing the required packages and importing the libraries"
      ]
    },
    {
      "cell_type": "markdown",
      "metadata": {
        "id": "slEm5teGWjWU"
      },
      "source": [
        "### Installing Gymnasium"
      ]
    },
    {
      "cell_type": "code",
      "execution_count": 1,
      "metadata": {
        "id": "dbnq3XpoKa_7",
        "colab": {
          "base_uri": "https://localhost:8080/"
        },
        "outputId": "3a3351d6-0e5b-40be-e24f-a21bb114b986"
      },
      "outputs": [
        {
          "output_type": "stream",
          "name": "stdout",
          "text": [
            "Collecting gymnasium\n",
            "  Downloading gymnasium-1.0.0-py3-none-any.whl.metadata (9.5 kB)\n",
            "Requirement already satisfied: numpy>=1.21.0 in /usr/local/lib/python3.10/dist-packages (from gymnasium) (1.26.4)\n",
            "Requirement already satisfied: cloudpickle>=1.2.0 in /usr/local/lib/python3.10/dist-packages (from gymnasium) (3.1.0)\n",
            "Requirement already satisfied: typing-extensions>=4.3.0 in /usr/local/lib/python3.10/dist-packages (from gymnasium) (4.12.2)\n",
            "Collecting farama-notifications>=0.0.1 (from gymnasium)\n",
            "  Downloading Farama_Notifications-0.0.4-py3-none-any.whl.metadata (558 bytes)\n",
            "Downloading gymnasium-1.0.0-py3-none-any.whl (958 kB)\n",
            "\u001b[2K   \u001b[90m━━━━━━━━━━━━━━━━━━━━━━━━━━━━━━━━━━━━━━━━\u001b[0m \u001b[32m958.1/958.1 kB\u001b[0m \u001b[31m14.5 MB/s\u001b[0m eta \u001b[36m0:00:00\u001b[0m\n",
            "\u001b[?25hDownloading Farama_Notifications-0.0.4-py3-none-any.whl (2.5 kB)\n",
            "Installing collected packages: farama-notifications, gymnasium\n",
            "Successfully installed farama-notifications-0.0.4 gymnasium-1.0.0\n",
            "Requirement already satisfied: gymnasium[accept-rom-license,atari] in /usr/local/lib/python3.10/dist-packages (1.0.0)\n",
            "\u001b[33mWARNING: gymnasium 1.0.0 does not provide the extra 'accept-rom-license'\u001b[0m\u001b[33m\n",
            "\u001b[0mRequirement already satisfied: numpy>=1.21.0 in /usr/local/lib/python3.10/dist-packages (from gymnasium[accept-rom-license,atari]) (1.26.4)\n",
            "Requirement already satisfied: cloudpickle>=1.2.0 in /usr/local/lib/python3.10/dist-packages (from gymnasium[accept-rom-license,atari]) (3.1.0)\n",
            "Requirement already satisfied: typing-extensions>=4.3.0 in /usr/local/lib/python3.10/dist-packages (from gymnasium[accept-rom-license,atari]) (4.12.2)\n",
            "Requirement already satisfied: farama-notifications>=0.0.1 in /usr/local/lib/python3.10/dist-packages (from gymnasium[accept-rom-license,atari]) (0.0.4)\n",
            "Collecting ale-py>=0.9 (from gymnasium[accept-rom-license,atari])\n",
            "  Downloading ale_py-0.10.1-cp310-cp310-manylinux_2_17_x86_64.manylinux2014_x86_64.whl.metadata (7.6 kB)\n",
            "Downloading ale_py-0.10.1-cp310-cp310-manylinux_2_17_x86_64.manylinux2014_x86_64.whl (2.1 MB)\n",
            "\u001b[2K   \u001b[90m━━━━━━━━━━━━━━━━━━━━━━━━━━━━━━━━━━━━━━━━\u001b[0m \u001b[32m2.1/2.1 MB\u001b[0m \u001b[31m25.9 MB/s\u001b[0m eta \u001b[36m0:00:00\u001b[0m\n",
            "\u001b[?25hInstalling collected packages: ale-py\n",
            "Successfully installed ale-py-0.10.1\n",
            "Reading package lists... Done\n",
            "Building dependency tree... Done\n",
            "Reading state information... Done\n",
            "The following additional packages will be installed:\n",
            "  swig4.0\n",
            "Suggested packages:\n",
            "  swig-doc swig-examples swig4.0-examples swig4.0-doc\n",
            "The following NEW packages will be installed:\n",
            "  swig swig4.0\n",
            "0 upgraded, 2 newly installed, 0 to remove and 49 not upgraded.\n",
            "Need to get 1,116 kB of archives.\n",
            "After this operation, 5,542 kB of additional disk space will be used.\n",
            "Get:1 http://archive.ubuntu.com/ubuntu jammy/universe amd64 swig4.0 amd64 4.0.2-1ubuntu1 [1,110 kB]\n",
            "Get:2 http://archive.ubuntu.com/ubuntu jammy/universe amd64 swig all 4.0.2-1ubuntu1 [5,632 B]\n",
            "Fetched 1,116 kB in 1s (836 kB/s)\n",
            "Selecting previously unselected package swig4.0.\n",
            "(Reading database ... 123629 files and directories currently installed.)\n",
            "Preparing to unpack .../swig4.0_4.0.2-1ubuntu1_amd64.deb ...\n",
            "Unpacking swig4.0 (4.0.2-1ubuntu1) ...\n",
            "Selecting previously unselected package swig.\n",
            "Preparing to unpack .../swig_4.0.2-1ubuntu1_all.deb ...\n",
            "Unpacking swig (4.0.2-1ubuntu1) ...\n",
            "Setting up swig4.0 (4.0.2-1ubuntu1) ...\n",
            "Setting up swig (4.0.2-1ubuntu1) ...\n",
            "Processing triggers for man-db (2.10.2-1) ...\n",
            "Requirement already satisfied: gymnasium[box2d] in /usr/local/lib/python3.10/dist-packages (1.0.0)\n",
            "Requirement already satisfied: numpy>=1.21.0 in /usr/local/lib/python3.10/dist-packages (from gymnasium[box2d]) (1.26.4)\n",
            "Requirement already satisfied: cloudpickle>=1.2.0 in /usr/local/lib/python3.10/dist-packages (from gymnasium[box2d]) (3.1.0)\n",
            "Requirement already satisfied: typing-extensions>=4.3.0 in /usr/local/lib/python3.10/dist-packages (from gymnasium[box2d]) (4.12.2)\n",
            "Requirement already satisfied: farama-notifications>=0.0.1 in /usr/local/lib/python3.10/dist-packages (from gymnasium[box2d]) (0.0.4)\n",
            "Collecting box2d-py==2.3.5 (from gymnasium[box2d])\n",
            "  Downloading box2d-py-2.3.5.tar.gz (374 kB)\n",
            "\u001b[2K     \u001b[90m━━━━━━━━━━━━━━━━━━━━━━━━━━━━━━━━━━━━━━━━\u001b[0m \u001b[32m374.4/374.4 kB\u001b[0m \u001b[31m9.0 MB/s\u001b[0m eta \u001b[36m0:00:00\u001b[0m\n",
            "\u001b[?25h  Preparing metadata (setup.py) ... \u001b[?25l\u001b[?25hdone\n",
            "Requirement already satisfied: pygame>=2.1.3 in /usr/local/lib/python3.10/dist-packages (from gymnasium[box2d]) (2.6.1)\n",
            "Collecting swig==4.* (from gymnasium[box2d])\n",
            "  Downloading swig-4.2.1-py2.py3-none-manylinux_2_5_x86_64.manylinux1_x86_64.whl.metadata (3.6 kB)\n",
            "Downloading swig-4.2.1-py2.py3-none-manylinux_2_5_x86_64.manylinux1_x86_64.whl (1.9 MB)\n",
            "\u001b[2K   \u001b[90m━━━━━━━━━━━━━━━━━━━━━━━━━━━━━━━━━━━━━━━━\u001b[0m \u001b[32m1.9/1.9 MB\u001b[0m \u001b[31m46.2 MB/s\u001b[0m eta \u001b[36m0:00:00\u001b[0m\n",
            "\u001b[?25hBuilding wheels for collected packages: box2d-py\n",
            "  Building wheel for box2d-py (setup.py) ... \u001b[?25l\u001b[?25hdone\n",
            "  Created wheel for box2d-py: filename=box2d_py-2.3.5-cp310-cp310-linux_x86_64.whl size=2349116 sha256=663c951d1d8225be292fd72685d49534f7c3b759ae700313a70a0d3a824886ec\n",
            "  Stored in directory: /root/.cache/pip/wheels/db/8f/6a/eaaadf056fba10a98d986f6dce954e6201ba3126926fc5ad9e\n",
            "Successfully built box2d-py\n",
            "Installing collected packages: swig, box2d-py\n",
            "Successfully installed box2d-py-2.3.5 swig-4.2.1\n"
          ]
        }
      ],
      "source": [
        "!pip install gymnasium\n",
        "!pip install \"gymnasium[atari, accept-rom-license]\"\n",
        "!apt-get install -y swig\n",
        "!pip install gymnasium[box2d]"
      ]
    },
    {
      "cell_type": "markdown",
      "metadata": {
        "id": "brqiMN3UW9T9"
      },
      "source": [
        "### Importing the libraries"
      ]
    },
    {
      "cell_type": "code",
      "execution_count": 2,
      "metadata": {
        "id": "mZaKXP_aMl9O"
      },
      "outputs": [],
      "source": [
        "import os\n",
        "import random\n",
        "import numpy as np\n",
        "import torch\n",
        "import torch.nn as nn\n",
        "import torch.optim as optim\n",
        "import torch.nn.functional as F\n",
        "import torch.autograd as autograd\n",
        "from torch.autograd import Variable\n",
        "from collections import deque, namedtuple"
      ]
    },
    {
      "cell_type": "markdown",
      "metadata": {
        "id": "EzlDKXvkXzGI"
      },
      "source": [
        "## Part 1 - Building the AI"
      ]
    },
    {
      "cell_type": "markdown",
      "metadata": {
        "id": "UtG6Zc83YYy3"
      },
      "source": [
        "### Creating the architecture of the Neural Network"
      ]
    },
    {
      "cell_type": "code",
      "source": [
        "class Network(nn.Module):\n",
        "\n",
        "  def __init__(self,\n",
        "               state_size:int = 8,\n",
        "               action_size:int = 4,\n",
        "               seed:int = 42,\n",
        "               fc1_units:int = 256,\n",
        "               fc2_units:int = 256\n",
        "               ) -> None:\n",
        "\n",
        "    super(Network, self).__init__()\n",
        "    self.seed = torch.manual_seed(seed)\n",
        "    self.fc1 = nn.Linear(state_size, fc1_units)\n",
        "    self.fc2 = nn.Linear(fc1_units, fc2_units)\n",
        "    self.fc3 = nn.Linear(fc2_units, action_size)\n",
        "    self.relu = nn.ReLU()\n",
        "\n",
        "  def forward(self, state):\n",
        "    x = self.relu(self.fc1(state))\n",
        "    x = self.relu(self.fc2(x))\n",
        "    return self.fc3(x)"
      ],
      "metadata": {
        "id": "QdRFDx9jofIh"
      },
      "execution_count": 81,
      "outputs": []
    },
    {
      "cell_type": "markdown",
      "metadata": {
        "id": "UxVrBnFWZKb1"
      },
      "source": [
        "## Part 2 - Training the AI"
      ]
    },
    {
      "cell_type": "markdown",
      "metadata": {
        "id": "T364fz9qZb2j"
      },
      "source": [
        "### Setting up the environment"
      ]
    },
    {
      "cell_type": "code",
      "source": [
        "import gymnasium as gym\n",
        "env = gym.make('LunarLander-v3') # The Lunar Lander environment was upgraded to v3\n",
        "state_shape = env.observation_space.shape\n",
        "state_size = env.observation_space.shape[0]\n",
        "number_actions = env.action_space.n\n",
        "print('State shape: ', state_shape)\n",
        "print('State size: ', state_size)\n",
        "print('Number of actions: ', number_actions)"
      ],
      "metadata": {
        "id": "41sgnpCwtd5f",
        "colab": {
          "base_uri": "https://localhost:8080/"
        },
        "outputId": "d464de15-7c12-4e96-aaf9-7b5105a8e2fe"
      },
      "execution_count": 4,
      "outputs": [
        {
          "output_type": "stream",
          "name": "stdout",
          "text": [
            "State shape:  (8,)\n",
            "State size:  8\n",
            "Number of actions:  4\n"
          ]
        }
      ]
    },
    {
      "cell_type": "markdown",
      "metadata": {
        "id": "c_dZmOIvZgj-"
      },
      "source": [
        "### Initializing the hyperparameters"
      ]
    },
    {
      "cell_type": "code",
      "source": [
        "learning_rate = 5e-4 # Alpha\n",
        "minibatch_size = 100 # Good size for deep q learning algorithm\n",
        "discount_factor = 0.99 # Gamma\n",
        "exploration_rate = 1.0 # Epsilon\n",
        "replay_buffer_size = int(1e5) # To stabilize training\n",
        "interpolation_parameter = 1e-3 #"
      ],
      "metadata": {
        "id": "7St719qVsJBo"
      },
      "execution_count": 5,
      "outputs": []
    },
    {
      "cell_type": "markdown",
      "metadata": {
        "id": "8hD_Vs-bYnip"
      },
      "source": [
        "### Implementing Experience Replay"
      ]
    },
    {
      "cell_type": "code",
      "source": [
        "class ReplayMemory(object):\n",
        "\n",
        "  def __init__(self, capacity):\n",
        "    self.device = torch.device(\"cuda:0\" if torch.cuda.is_available() else torch.device(\"cpu\")) # To use GPU if it is available\n",
        "    self.capacity = capacity # Maximum size of memory buffer\n",
        "    self.memory = []\n",
        "\n",
        "  def push(self, event):\n",
        "    self.memory.append(event)\n",
        "    if len(self.memory) > self.capacity:\n",
        "      del self.memory[0]\n",
        "\n",
        "  def sample(self, batch_size):\n",
        "    experiences = random.sample(self.memory, k=batch_size)\n",
        "    states = torch.from_numpy(np.vstack([e[0] for e in experiences if e is not None])).float().to(self.device)\n",
        "    actions = torch.from_numpy(np.vstack([e[1] for e in experiences if e is not None])).long().to(self.device)\n",
        "    rewards = torch.from_numpy(np.vstack([e[2] for e in experiences if e is not None])).float().to(self.device)\n",
        "    next_states = torch.from_numpy(np.vstack([e[3] for e in experiences if e is not None])).float().to(self.device)\n",
        "    dones = torch.from_numpy(np.vstack([e[4] for e in experiences if e is not None]).astype(np.uint8)).float().to(self.device)\n",
        "    return states, next_states, actions, rewards, dones"
      ],
      "metadata": {
        "id": "Ab7ov-Z5s3J3"
      },
      "execution_count": 42,
      "outputs": []
    },
    {
      "cell_type": "markdown",
      "metadata": {
        "id": "JmEkbFbUY6Jt"
      },
      "source": [
        "### Implementing the DQN class"
      ]
    },
    {
      "cell_type": "code",
      "source": [
        "class Agent():\n",
        "\n",
        "  def __init__(self,\n",
        "               state_size:int,\n",
        "               action_size:int\n",
        "               ):\n",
        "\n",
        "    self.device = torch.device(\"cuda:0\" if torch.cuda.is_available() else torch.device(\"cpu\")) # To use GPU if it is available\n",
        "    self.state_size = state_size\n",
        "    self.action_size = action_size\n",
        "\n",
        "    self.qnetwork_local = Network(state_size, action_size, fc1_units=64, fc2_units=64).to(self.device)\n",
        "    self.qnetwork_target = Network(state_size, action_size, fc1_units=64, fc2_units=64).to(self.device)\n",
        "    self.optimizer = optim.Adam(self.qnetwork_local.parameters(), lr=learning_rate)\n",
        "    self.memory = ReplayMemory(replay_buffer_size)\n",
        "    self.t_step = 0\n",
        "\n",
        "  def step(self, state, action, reward, next_state, done):\n",
        "    self.memory.push((state, action, reward, next_state, done))\n",
        "    self.t_step = (self.t_step + 1) % 4\n",
        "    if self.t_step == 0:\n",
        "      if len(self.memory.memory) > minibatch_size:\n",
        "        experiences = self.memory.sample(minibatch_size)\n",
        "        self.learn(experiences, discount_factor)\n",
        "\n",
        "  def act(self, state, eps:float=0.):\n",
        "    state = torch.from_numpy(state).float().unsqueeze(0).to(self.device)\n",
        "    self.qnetwork_local.eval()\n",
        "    with torch.no_grad():\n",
        "      action_values = self.qnetwork_local(state)\n",
        "    self.qnetwork_local.train()\n",
        "    if random.random() > eps:\n",
        "      return np.argmax(action_values.cpu().data.numpy())\n",
        "    else:\n",
        "      return random.choice(np.arange(self.action_size))\n",
        "\n",
        "  def learn(self, experiences, discount_factor):\n",
        "    states, next_states, actions, rewards, dones = experiences\n",
        "    Q_targets_next = self.qnetwork_target(next_states).detach().max(1)[0].unsqueeze(1)\n",
        "    Q_targets = rewards + (discount_factor * Q_targets_next * (1 - dones))\n",
        "    Q_expected = self.qnetwork_local(states).gather(1, actions)\n",
        "    loss = F.mse_loss(input=Q_expected, target=Q_targets)\n",
        "    self.optimizer.zero_grad()\n",
        "    loss.backward()\n",
        "    self.optimizer.step()\n",
        "    self.soft_update(self.qnetwork_local, self.qnetwork_target, interpolation_parameter)\n",
        "\n",
        "  def soft_update(self, local_model, target_model, interpolation_parameter):\n",
        "    for target_param, local_param in zip(target_model.parameters(), local_model.parameters()):\n",
        "      target_param.data.copy_(interpolation_parameter * local_param.data + (1.0 - interpolation_parameter) * target_param.data)\n",
        "\n",
        "  def save_model(self, path):\n",
        "    torch.save(self.qnetwork_local.state_dict(), path)"
      ],
      "metadata": {
        "id": "SLXNlr6Yw_W7"
      },
      "execution_count": 91,
      "outputs": []
    },
    {
      "cell_type": "markdown",
      "metadata": {
        "id": "o1tZElccZmf6"
      },
      "source": [
        "### Initializing the DQN agent"
      ]
    },
    {
      "cell_type": "code",
      "source": [
        "agent = Agent(state_size=state_size,action_size=number_actions)"
      ],
      "metadata": {
        "id": "ZUAbWNnqItGK"
      },
      "execution_count": 48,
      "outputs": []
    },
    {
      "cell_type": "markdown",
      "metadata": {
        "id": "E8v0PtUfaVQp"
      },
      "source": [
        "### Training the DQN agent"
      ]
    },
    {
      "cell_type": "code",
      "source": [
        "number_episodes = 2000 # Max number of episodes to train\n",
        "max_t = 1000 # Max number of time steps per episode\n",
        "epsilon_starting_value = 1.0\n",
        "epsilon_final_value = 0.01\n",
        "epsilon_decay_rate = 0.995\n",
        "scores = []\n",
        "scores_window = deque(maxlen=100)\n",
        "eps = epsilon_starting_value\n",
        "\n",
        "for episode in range(1, number_episodes+1):\n",
        "  state, _ = env.reset()\n",
        "  score = 0\n",
        "  for t in range(0, max_t):\n",
        "    action = agent.act(state, eps)\n",
        "    next_state, reward, done, _, _ = env.step(action)\n",
        "    agent.step(state, action, reward, next_state, done)\n",
        "    state = next_state\n",
        "    score += reward\n",
        "    if done:\n",
        "      break\n",
        "  scores_window.append(score)\n",
        "  scores.append(score)\n",
        "  eps = max(epsilon_final_value, epsilon_decay_rate*eps)\n",
        "  print('\\rEpisode {}\\tAverage Score: {:.2f}'.format(episode, np.mean(scores_window)), end=\"\")\n",
        "  if episode % 100 == 0:\n",
        "    print('\\rEpisode {}\\tAverage Score: {:.2f}'.format(episode, np.mean(scores_window)))\n",
        "  if np.mean(scores_window)>=200.0:\n",
        "    print('\\nEnvironment solved in {:d} episodes!\\tAverage Score: {:.2f}'.format(episode-100, np.mean(scores_window)))\n",
        "    agent.save_model('lunar_lander_dqn.pth')\n",
        "    break"
      ],
      "metadata": {
        "colab": {
          "base_uri": "https://localhost:8080/"
        },
        "id": "oYBNYixlJMJZ",
        "outputId": "876bffd0-9cd3-4a04-a326-bee8266d5b7e"
      },
      "execution_count": 49,
      "outputs": [
        {
          "output_type": "stream",
          "name": "stdout",
          "text": [
            "Episode 100\tAverage Score: -170.01\n",
            "Episode 200\tAverage Score: -120.90\n",
            "Episode 300\tAverage Score: -42.35\n",
            "Episode 400\tAverage Score: 37.28\n",
            "Episode 500\tAverage Score: 139.52\n",
            "Episode 600\tAverage Score: 198.58\n",
            "Episode 603\tAverage Score: 200.31\n",
            "Environment solved in 503 episodes!\tAverage Score: 200.31\n"
          ]
        }
      ]
    },
    {
      "cell_type": "markdown",
      "metadata": {
        "id": "O8CNwdOTcCoP"
      },
      "source": [
        "## Part 3 - Visualizing the results"
      ]
    },
    {
      "cell_type": "code",
      "execution_count": 50,
      "metadata": {
        "id": "cb9nVvU2Okhk",
        "colab": {
          "base_uri": "https://localhost:8080/",
          "height": 459
        },
        "outputId": "55a98f7d-4cb3-46f0-ac6f-06de3ba52f5e"
      },
      "outputs": [
        {
          "output_type": "stream",
          "name": "stderr",
          "text": [
            "WARNING:imageio_ffmpeg:IMAGEIO FFMPEG_WRITER WARNING: input image is not divisible by macro_block_size=16, resizing from (600, 400) to (608, 400) to ensure video compatibility with most codecs and players. To prevent resizing, make your input image divisible by the macro_block_size or set the macro_block_size to 1 (risking incompatibility).\n"
          ]
        },
        {
          "output_type": "display_data",
          "data": {
            "text/plain": [
              "<IPython.core.display.HTML object>"
            ],
            "text/html": [
              "<video alt=\"test\" autoplay\n",
              "                loop controls style=\"height: 400px;\">\n",
              "                <source src=\"data:video/mp4;base64,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\" type=\"video/mp4\" />\n",
              "             </video>"
            ]
          },
          "metadata": {}
        }
      ],
      "source": [
        "import glob\n",
        "import io\n",
        "import base64\n",
        "import imageio\n",
        "from IPython.display import HTML, display\n",
        "\n",
        "def show_video_of_model(agent, env_name):\n",
        "    env = gym.make(env_name, render_mode='rgb_array')\n",
        "    state, _ = env.reset()\n",
        "    done = False\n",
        "    frames = []\n",
        "    while not done:\n",
        "        frame = env.render()\n",
        "        frames.append(frame)\n",
        "        action = agent.act(state)\n",
        "        state, reward, done, _, _ = env.step(action.item())\n",
        "    env.close()\n",
        "    imageio.mimsave('video.mp4', frames, fps=30)\n",
        "\n",
        "show_video_of_model(agent, 'LunarLander-v3')\n",
        "\n",
        "def show_video():\n",
        "    mp4list = glob.glob('*.mp4')\n",
        "    if len(mp4list) > 0:\n",
        "        mp4 = mp4list[0]\n",
        "        video = io.open(mp4, 'r+b').read()\n",
        "        encoded = base64.b64encode(video)\n",
        "        display(HTML(data='''<video alt=\"test\" autoplay\n",
        "                loop controls style=\"height: 400px;\">\n",
        "                <source src=\"data:video/mp4;base64,{0}\" type=\"video/mp4\" />\n",
        "             </video>'''.format(encoded.decode('ascii'))))\n",
        "    else:\n",
        "        print(\"Could not find video\")\n",
        "\n",
        "show_video()"
      ]
    },
    {
      "cell_type": "markdown",
      "source": [
        "# A new environment"
      ],
      "metadata": {
        "id": "DmDnzPk_WEbm"
      }
    },
    {
      "cell_type": "code",
      "source": [
        "import gymnasium as gym\n",
        "\n",
        "# The Car racing environment was upgraded to v3\n",
        "env = gym.make('MountainCar-v0')\n",
        "\n",
        "# Get the shape of the state space\n",
        "state_shape = env.observation_space.shape\n",
        "\n",
        "# Get the size of the state space\n",
        "state_size = env.observation_space.shape[0]\n",
        "\n",
        "# Get the number of actions (for continuous action spaces)\n",
        "number_actions = env.action_space.n\n",
        "\n",
        "print('State shape: ', state_shape)\n",
        "print('State size: ', state_size)\n",
        "print('Number of actions: ', number_actions)"
      ],
      "metadata": {
        "id": "5jlpZd-zV_KL",
        "outputId": "98683a8b-d247-4373-d394-b532ba4a7083",
        "colab": {
          "base_uri": "https://localhost:8080/"
        }
      },
      "execution_count": 92,
      "outputs": [
        {
          "output_type": "stream",
          "name": "stdout",
          "text": [
            "State shape:  (2,)\n",
            "State size:  2\n",
            "Number of actions:  3\n"
          ]
        }
      ]
    },
    {
      "cell_type": "code",
      "source": [
        "learning_rate = 1e-4 # Alpha\n",
        "minibatch_size = 64 # Good size for deep q learning algorithm\n",
        "discount_factor = 0.99 # Gamma\n",
        "exploration_rate = 1.0 # Epsilon\n",
        "replay_buffer_size = int(1e5) # To stabilize training\n",
        "interpolation_parameter = 1e-3 #"
      ],
      "metadata": {
        "id": "iM6ecmZHW9y6"
      },
      "execution_count": 93,
      "outputs": []
    },
    {
      "cell_type": "code",
      "source": [
        "agent_driver = Agent(state_size=state_size,action_size=number_actions)"
      ],
      "metadata": {
        "id": "g3yiqGEnW_g8"
      },
      "execution_count": 94,
      "outputs": []
    },
    {
      "cell_type": "code",
      "source": [
        "import numpy as np\n",
        "import torch\n",
        "from collections import deque\n",
        "\n",
        "number_episodes = 15000  # Max number of episodes to train\n",
        "max_t = 200  # Max number of time steps per episode\n",
        "epsilon_starting_value = 1.0\n",
        "epsilon_final_value = 0.01\n",
        "epsilon_decay_rate = 0.9\n",
        "scores = []\n",
        "scores_window = deque(maxlen=100)\n",
        "eps = epsilon_starting_value\n",
        "\n",
        "# Assuming your agent has a method to preprocess the state\n",
        "def preprocess_state(state):\n",
        "    return state.flatten()\n",
        "\n",
        "for episode in range(1, number_episodes+1):\n",
        "    state, _ = env.reset()\n",
        "    state = preprocess_state(state)  # Preprocess the state\n",
        "    score = 0\n",
        "    for t in range(0, max_t):\n",
        "        action = agent_driver.act(state, eps)\n",
        "        next_state, reward, done, _, _ = env.step(action)\n",
        "        next_state = preprocess_state(next_state)  # Preprocess the next state\n",
        "        agent_driver.step(state, action, reward, next_state, done)\n",
        "        state = next_state\n",
        "        score += reward\n",
        "        if done:\n",
        "            break\n",
        "    scores_window.append(score)\n",
        "    scores.append(score)\n",
        "    eps = max(epsilon_final_value, epsilon_decay_rate*eps)\n",
        "    print('\\rEpisode {}\\tAverage Score: {:.2f}'.format(episode, np.mean(scores_window)), end=\"\")\n",
        "    if episode % 100 == 0:\n",
        "        print('\\rEpisode {}\\tAverage Score: {:.2f} '.format(episode, np.mean(scores_window)))\n",
        "    if np.mean(scores_window) >= -110.0:\n",
        "        print('\\nEnvironment solved in {:d} episodes!\\tAverage Score: {:.2f}'.format(episode-100, np.mean(scores_window)))\n",
        "        agent_driver.save_model('driver.pth')\n",
        "        break"
      ],
      "metadata": {
        "id": "dwEa14GdXKEs",
        "outputId": "b0b43a8e-5124-46e3-eab8-c4811f22f97d",
        "colab": {
          "base_uri": "https://localhost:8080/"
        }
      },
      "execution_count": 98,
      "outputs": [
        {
          "output_type": "stream",
          "name": "stdout",
          "text": [
            "Episode 100\tAverage Score: -150.43 \n",
            "Episode 200\tAverage Score: -136.97 \n",
            "Episode 300\tAverage Score: -129.29 \n",
            "Episode 400\tAverage Score: -129.15 \n",
            "Episode 500\tAverage Score: -138.76 \n",
            "Episode 600\tAverage Score: -131.91 \n",
            "Episode 700\tAverage Score: -131.24 \n",
            "Episode 800\tAverage Score: -133.91 \n",
            "Episode 900\tAverage Score: -133.10 \n",
            "Episode 1000\tAverage Score: -136.62 \n",
            "Episode 1100\tAverage Score: -139.49 \n",
            "Episode 1200\tAverage Score: -143.09 \n",
            "Episode 1300\tAverage Score: -143.63 \n",
            "Episode 1400\tAverage Score: -145.70 \n",
            "Episode 1500\tAverage Score: -136.85 \n",
            "Episode 1600\tAverage Score: -137.08 \n",
            "Episode 1700\tAverage Score: -142.19 \n",
            "Episode 1800\tAverage Score: -144.74 \n",
            "Episode 1900\tAverage Score: -143.40 \n",
            "Episode 2000\tAverage Score: -149.64 \n",
            "Episode 2100\tAverage Score: -155.49 \n",
            "Episode 2200\tAverage Score: -160.07 \n",
            "Episode 2300\tAverage Score: -154.22 \n",
            "Episode 2400\tAverage Score: -156.13 \n",
            "Episode 2500\tAverage Score: -146.55 \n",
            "Episode 2600\tAverage Score: -137.15 \n",
            "Episode 2700\tAverage Score: -136.10 \n",
            "Episode 2800\tAverage Score: -118.08 \n",
            "Episode 2852\tAverage Score: -109.98\n",
            "Environment solved in 2752 episodes!\tAverage Score: -109.98\n"
          ]
        }
      ]
    },
    {
      "cell_type": "code",
      "source": [
        "import glob\n",
        "import io\n",
        "import base64\n",
        "import imageio\n",
        "from IPython.display import HTML, display\n",
        "\n",
        "def show_video_of_model(agent, env_name):\n",
        "    env = gym.make(env_name, render_mode='rgb_array')\n",
        "    state, _ = env.reset()\n",
        "    done = False\n",
        "    frames = []\n",
        "    while not done:\n",
        "        frame = env.render()\n",
        "        frames.append(frame)\n",
        "        action = agent_driver.act(state)\n",
        "        state, reward, done, _, _ = env.step(action.item())\n",
        "    env.close()\n",
        "    imageio.mimsave('video.mp4', frames, fps=30)\n",
        "\n",
        "show_video_of_model(agent_driver, 'MountainCar-v0')\n",
        "\n",
        "def show_video():\n",
        "    mp4list = glob.glob('*.mp4')\n",
        "    if len(mp4list) > 0:\n",
        "        mp4 = mp4list[0]\n",
        "        video = io.open(mp4, 'r+b').read()\n",
        "        encoded = base64.b64encode(video)\n",
        "        display(HTML(data='''<video alt=\"test\" autoplay\n",
        "                loop controls style=\"height: 400px;\">\n",
        "                <source src=\"data:video/mp4;base64,{0}\" type=\"video/mp4\" />\n",
        "             </video>'''.format(encoded.decode('ascii'))))\n",
        "    else:\n",
        "        print(\"Could not find video\")\n",
        "\n",
        "show_video()"
      ],
      "metadata": {
        "id": "7lIPUYdWAWRf",
        "outputId": "73279745-0f41-4fd6-951e-2a875cd6d414",
        "colab": {
          "base_uri": "https://localhost:8080/",
          "height": 459
        }
      },
      "execution_count": 99,
      "outputs": [
        {
          "output_type": "stream",
          "name": "stderr",
          "text": [
            "WARNING:imageio_ffmpeg:IMAGEIO FFMPEG_WRITER WARNING: input image is not divisible by macro_block_size=16, resizing from (600, 400) to (608, 400) to ensure video compatibility with most codecs and players. To prevent resizing, make your input image divisible by the macro_block_size or set the macro_block_size to 1 (risking incompatibility).\n"
          ]
        },
        {
          "output_type": "display_data",
          "data": {
            "text/plain": [
              "<IPython.core.display.HTML object>"
            ],
            "text/html": [
              "<video alt=\"test\" autoplay\n",
              "                loop controls style=\"height: 400px;\">\n",
              "                <source src=\"data:video/mp4;base64,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\" type=\"video/mp4\" />\n",
              "             </video>"
            ]
          },
          "metadata": {}
        }
      ]
    }
  ],
  "metadata": {
    "colab": {
      "provenance": [],
      "include_colab_link": true
    },
    "kernelspec": {
      "display_name": "Python 3",
      "name": "python3"
    },
    "language_info": {
      "name": "python"
    }
  },
  "nbformat": 4,
  "nbformat_minor": 0
}